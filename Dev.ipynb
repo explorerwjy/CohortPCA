{
 "cells": [
  {
   "cell_type": "code",
   "execution_count": 3,
   "metadata": {
    "collapsed": false
   },
   "outputs": [
    {
     "name": "stdout",
     "output_type": "stream",
     "text": [
      "The autoreload extension is already loaded. To reload it, use:\n",
      "  %reload_ext autoreload\n"
     ]
    }
   ],
   "source": [
    "# Auto Load module\n",
    "%load_ext autoreload\n",
    "%autoreload 2\n",
    "from CohortPCA import *"
   ]
  },
  {
   "cell_type": "code",
   "execution_count": 4,
   "metadata": {
    "collapsed": false
   },
   "outputs": [
    {
     "name": "stdout",
     "output_type": "stream",
     "text": [
      "Model: RandomForestClassifier\n",
      "Fitting Model...\n",
      "Done with Fitting, used 0.1017 secs.\n",
      "CrossV: [ 0.97089041  0.97770154  0.97938144  0.97758621  0.98096886]\n",
      "Accuracy: 0.97731 (+/- 0.00688)\n"
     ]
    }
   ],
   "source": [
    "ControlPanel = \"data/AncestryPCA.master.panel\"\n",
    "EVEC = \"/Users/jiayao/Work/EsophagealAtresia/PCA/CARE.hg19.gz.plus.HapMap.pca.evec\"\n",
    "\n",
    "instance = CohortPCA(ControlPanel, EVEC)\n",
    "instance.loadControlPanel()\n",
    "instance.loadEigenValue()\n",
    "#instance.ReduceSuperPop()\n",
    "#instance.Plot(\"RGN\")\n",
    "#instance.MarkerWithKNN()\n",
    "instance.MarkerWithSVM()"
   ]
  },
  {
   "cell_type": "code",
   "execution_count": 12,
   "metadata": {
    "collapsed": false
   },
   "outputs": [],
   "source": [
    "def modifyPop(pop):\n",
    "    pop = pop.strip()\n",
    "    if pop in [\"African American\",\"Black\",\"black\"]:\n",
    "        return \"AFR\"\n",
    "    if pop in [\"Caucasian\",\"White\",\"caucasian\"]:\n",
    "        return \"EUR\"\n",
    "    if pop in [\"Asian\",\"Asian (Bangladesh)\",\"Asian (Bangladeshi)\",\"Asian (Korean)\",\"Asian (Philippines)\"]:\n",
    "        return \"SAS\"\n",
    "    else:\n",
    "        return pop\n",
    "\n",
    "# Annotate Ped \n",
    "selfR = {}\n",
    "pcaR = {}\n",
    "\n",
    "reader = csv.reader(open(\"/Users/jiayao/Work/EsophagealAtresia/ALL.ped\", 'rb'), delimiter=\"\\t\")\n",
    "header = reader.next()\n",
    "H = header\n",
    "for row in reader:\n",
    "    row[7] = modifyPop(row[7])\n",
    "    selfR[row[1]]=row[7]\n",
    "    \n",
    "reader = csv.reader(open(\"CaseAnnotationSVM.txt\", 'rb'), delimiter=\"\\t\")\n",
    "for row in reader:\n",
    "    pcaR[row[0]]=row[1]\n",
    "\n",
    "H = H[0:6]\n",
    "H.extend([\"pcaR.PoP\"])\n",
    "Ped = csv.reader(open(\"/Users/jiayao/Work/EsophagealAtresia/ALL.ped\", 'rb'), delimiter=\"\\t\")\n",
    "Ped.next()\n",
    "Out = csv.writer(open(\"/Users/jiayao/Work/EsophagealAtresia/ALL.pop.ped\", 'wb'), delimiter=\"\\t\")\n",
    "Out.writerow(H)\n",
    "for row in Ped:\n",
    "    row.append(pcaR.get(row[1], '.'))\n",
    "    Out.writerow(row)\n",
    "\n"
   ]
  },
  {
   "cell_type": "code",
   "execution_count": 19,
   "metadata": {
    "collapsed": false
   },
   "outputs": [
    {
     "data": {
      "text/plain": [
       "pcaR.PoP\n",
       "AFR     2\n",
       "AJ      7\n",
       "AMR     1\n",
       "DOMI    2\n",
       "EUR     7\n",
       "SAS     2\n",
       "Name: ProbandID, dtype: int64"
      ]
     },
     "execution_count": 19,
     "metadata": {},
     "output_type": "execute_result"
    }
   ],
   "source": [
    "df = pd.read_csv(\"/Users/jiayao/Work/EsophagealAtresia/ALL.pop.ped\", sep=\"\\t\")\n",
    "df = df[df[\"Relationship\"] == \"Proband\"]\n",
    "df.groupby('pcaR.PoP').count()[\"ProbandID\"]\n",
    "\n"
   ]
  },
  {
   "cell_type": "code",
   "execution_count": 53,
   "metadata": {
    "collapsed": false
   },
   "outputs": [
    {
     "data": {
      "text/plain": [
       "selfR.PoP\n",
       "AFR                            9\n",
       "Asian (Indian)                 4\n",
       "Black/Hispanic                 1\n",
       "Caucasian/African American     1\n",
       "Caucasian/Asian (India)        1\n",
       "Caucasian/Hispanic             5\n",
       "EUR                           59\n",
       "Hispanic                      31\n",
       "Hispanic/Asian/Caucasian       1\n",
       "Mixed (Indian/Hispanic)        1\n",
       "Other                          1\n",
       "SAS                           10\n",
       "Name: SAMPLEID, dtype: int64"
      ]
     },
     "execution_count": 53,
     "metadata": {},
     "output_type": "execute_result"
    }
   ],
   "source": [
    "df.groupby('selfR.PoP').count()[\"SAMPLEID\"]"
   ]
  },
  {
   "cell_type": "code",
   "execution_count": 65,
   "metadata": {
    "collapsed": false
   },
   "outputs": [
    {
     "name": "stdout",
     "output_type": "stream",
     "text": [
      "d274\n"
     ]
    }
   ],
   "source": [
    "for item in list(df[df[\"pcaR.PoP\"].isin([\".\"])][\"SAMPLEID\"]):\n",
    "    print item"
   ]
  },
  {
   "cell_type": "code",
   "execution_count": null,
   "metadata": {
    "collapsed": true
   },
   "outputs": [],
   "source": []
  }
 ],
 "metadata": {
  "kernelspec": {
   "display_name": "Python 2",
   "language": "python",
   "name": "python2"
  },
  "language_info": {
   "codemirror_mode": {
    "name": "ipython",
    "version": 2
   },
   "file_extension": ".py",
   "mimetype": "text/x-python",
   "name": "python",
   "nbconvert_exporter": "python",
   "pygments_lexer": "ipython2",
   "version": "2.7.13"
  }
 },
 "nbformat": 4,
 "nbformat_minor": 0
}
